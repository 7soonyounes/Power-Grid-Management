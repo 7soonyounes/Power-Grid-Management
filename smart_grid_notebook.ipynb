{
  "cells": [
    {
      "cell_type": "markdown",
      "metadata": {},
      "source": [
        "## Power Grid Management Project"
      ]
    },
    {
      "cell_type": "markdown",
      "metadata": {
        "id": "bIGD9WuZxwyM"
      },
      "source": [
        "## Libraries importation"
      ]
    },
    {
      "cell_type": "code",
      "execution_count": null,
      "metadata": {
        "id": "RCU4AsCaXtj7"
      },
      "outputs": [],
      "source": [
        "import numpy as np\n",
        "import random"
      ]
    },
    {
      "cell_type": "markdown",
      "metadata": {
        "id": "LoFVkCiQyEQJ"
      },
      "source": [
        "## The Micro Grid Class (environement)"
      ]
    },
    {
      "cell_type": "code",
      "execution_count": 299,
      "metadata": {
        "id": "qn3lyejScN_w"
      },
      "outputs": [],
      "source": [
        "class GridEnvironment:\n",
        "    def __init__(self, num_poles):\n",
        "        self.num_poles = num_poles\n",
        "        self.wind_energy_range = (0, 2)\n",
        "        self.solar_energy_range = (0, 2)\n",
        "        self.battery_charge_range = (0, 2)\n",
        "        self.pole_consumption_range = (0, 6)\n",
        "        self.poles_connected = [False] * num_poles\n",
        "        self.urban_electricity_usage = 0  # Added variable for urban electricity usage\n",
        "\n",
        "        self.wind_energy = random.randint(*self.wind_energy_range)\n",
        "        self.solar_energy = random.randint(*self.solar_energy_range)\n",
        "        self.battery_charge = random.randint(*self.battery_charge_range)\n",
        "        self.pole_consumptions = [random.randint(*self.pole_consumption_range) for _ in range(self.num_poles)]\n",
        "        self.poles_connected = [False] * self.num_poles\n",
        "\n",
        "    def reset(self):\n",
        "        self.wind_energy = random.randint(*self.wind_energy_range)\n",
        "        self.solar_energy = random.randint(*self.solar_energy_range)\n",
        "        self.battery_charge = random.randint(*self.battery_charge_range)\n",
        "        self.pole_consumptions = [random.randint(*self.pole_consumption_range) for _ in range(self.num_poles)]\n",
        "        self.poles_connected = [False] * self.num_poles\n",
        "        self.urban_electricity_usage = 0  # Reset urban electricity usage\n",
        "        res = [self.wind_energy, self.solar_energy, self.battery_charge]\n",
        "        for e in self.pole_consumptions:\n",
        "            res.append(e)\n",
        "        return tuple(res)\n",
        "\n",
        "    def step(self, action): # action = [battery, urban electricity, pole 1, p2, p3, p4]\n",
        "        # Update the state based on the chosen action\n",
        "        if action[0] == 0:  # Battery usage: charge\n",
        "            if self.battery_charge < self.battery_charge_range[1]:\n",
        "                self.battery_charge += 1\n",
        "        else :  # Battery usage: discharge\n",
        "            if self.battery_charge > 0:\n",
        "                self.battery_charge -= 1\n",
        "\n",
        "        if action[1] == 1:  # Urban electricity usage: on\n",
        "            self.urban_electricity_usage = 1\n",
        "        else:  # Urban electricity usage: off\n",
        "            self.urban_electricity_usage = 0\n",
        "\n",
        "        if action[2] == 1:  # Power connection for each pole\n",
        "            self.poles_connected[0] = True\n",
        "        else : self.poles_connected[0] = False\n",
        "        if action[3] == 1:  # Power connection for each pole\n",
        "            self.poles_connected[1] = True\n",
        "        else : self.poles_connected[1] = False\n",
        "        if action[4] == 1:  # Power connection for each pole\n",
        "            self.poles_connected[2] = True\n",
        "        else : self.poles_connected[2] = False\n",
        "        if action[5] == 1:  # Power connection for each pole\n",
        "            self.poles_connected[3] = True\n",
        "        else : self.poles_connected[3] = False\n",
        "\n",
        "        tmp = [self.wind_energy, self.solar_energy, self.battery_charge]\n",
        "        for e in self.pole_consumptions:\n",
        "            tmp.append(e)\n",
        "        next_state = tuple(tmp)\n",
        "        reward = self.calculate_reward()\n",
        "        return next_state, reward\n",
        "\n",
        "    def calculate_reward(self):\n",
        "        # Calculate the reward based on the state\n",
        "        reward = 0\n",
        "        # Add reward for charging the battery\n",
        "        if self.battery_charge != 0 : reward += 2\n",
        "        else : reward -= 4\n",
        "        # Subtract penalty for urban electricity usage\n",
        "        if self.urban_electricity_usage : reward -= 30\n",
        "        else : reward += 30\n",
        "        # Subtract penalties for cutting electricity on each pole\n",
        "        for i, consumption in enumerate(self.pole_consumptions):\n",
        "            if not self.poles_connected[i]:\n",
        "                reward -= (4 - i) * 2\n",
        "        return reward"
      ]
    },
    {
      "cell_type": "markdown",
      "metadata": {
        "id": "spxH2HxnyJW8"
      },
      "source": [
        "## The Smart RL Agent Class"
      ]
    },
    {
      "cell_type": "code",
      "execution_count": 289,
      "metadata": {
        "colab": {
          "base_uri": "https://localhost:8080/"
        },
        "id": "hghBePBz24gb",
        "outputId": "58ba0d78-32f0-4f5d-b973-4d5df32e2447"
      },
      "outputs": [
        {
          "name": "stdout",
          "output_type": "stream",
          "text": [
            "Training complete.\n"
          ]
        }
      ],
      "source": [
        "class SmartGridAgent():\n",
        "  def __init__(self, num_episodes = 1000, max_steps_per_episode = 100, learning_rate = 0.1, discount_factor = 0.9, exploration_rate = 1.0):\n",
        "    self.num_states = (3 ** 3) * (7 ** 4)\n",
        "    self.num_actions = 2 * 2 * 2 * 2 * 2 * 2\n",
        "    self.q_table = np.zeros((self.num_states, self.num_actions))\n",
        "    self.state_mapping = {}\n",
        "    self.action_mapping = {}\n",
        "    self.row_count = 0\n",
        "    self.col_count = 0\n",
        "    self.num_episodes = num_episodes\n",
        "    self.max_steps_per_episode = max_steps_per_episode\n",
        "    self.learning_rate = learning_rate\n",
        "    self.discount_factor = discount_factor\n",
        "    self.exploration_rate = exploration_rate\n",
        "    self.max_exploration_rate = 1.0\n",
        "    self.min_exploration_rate = 0.01\n",
        "    self.exploration_decay_rate = 0.01\n",
        "\n",
        "  def map_q_table(self):\n",
        "    for wind_energy in range(3):\n",
        "      for solar_energy in range(3):\n",
        "          for battery_charge in range(3):\n",
        "              for pole_1_consumption in range(7):\n",
        "                  for pole_2_consumption in range(7):\n",
        "                      for pole_3_consumption in range(7):\n",
        "                          for pole_4_consumption in range(7):\n",
        "                              state = (wind_energy, solar_energy, battery_charge, pole_1_consumption, pole_2_consumption, pole_3_consumption, pole_4_consumption)\n",
        "                              self.state_mapping[state] = self.row_count\n",
        "                              self.row_count += 1\n",
        "\n",
        "  def map_q_table_ind(self):\n",
        "    for battery in range(2):\n",
        "      for urban in range(2):\n",
        "          for pole1 in range(2):\n",
        "              for pole2 in range(2):\n",
        "                  for pole3 in range(2):\n",
        "                      for pole4 in range(2):\n",
        "                          action = (battery, urban, pole1, pole2, pole3, pole4)\n",
        "                          self.action_mapping[self.col_count] =  action\n",
        "                          self.col_count += 1\n",
        "\n",
        "  def train(self):\n",
        "    for episode in range(self.num_episodes):\n",
        "      state = env.reset()\n",
        "      total_reward = 0\n",
        "\n",
        "      for step in range(self.max_steps_per_episode):\n",
        "          # Exploration-exploitation trade-off\n",
        "          exploration_rate_threshold = random.uniform(0, 1)\n",
        "          if exploration_rate_threshold > self.exploration_rate:\n",
        "              action = np.argmax(self.q_table[self.state_mapping[state], :])\n",
        "          else:\n",
        "              action = random.randint(0, self.num_actions - 1)\n",
        "\n",
        "          # Take the chosen action and observe the next state and reward from the environment\n",
        "          next_state, reward = env.step(self.action_mapping[action])\n",
        "\n",
        "          # Update the Q-value of the current state-action pair\n",
        "          current_q = self.q_table[self.state_mapping[state], action]\n",
        "          max_future_q = np.max(self.q_table[self.state_mapping[next_state], :])\n",
        "          new_q = (1 - self.learning_rate) * current_q + self.learning_rate * (reward + self.discount_factor * max_future_q)\n",
        "          self.q_table[self.state_mapping[state], action] = new_q\n",
        "\n",
        "          total_reward += reward\n",
        "          state = next_state\n",
        "\n",
        "      # Exploration rate decay\n",
        "      self.exploration_rate = self.min_exploration_rate + (self.max_exploration_rate - self.min_exploration_rate) * np.exp(-self.exploration_decay_rate * episode)\n",
        "\n",
        "      # Print the total reward for the episode\n",
        "      if episode % 100 == 0 :print(f\"Episode {episode + 1}: Total Reward = {total_reward}\")\n",
        "\n",
        "  print(\"Training complete.\")\n",
        "\n",
        "  def get_action(self, state):\n",
        "      # Convert the state to the corresponding row in the Q-table\n",
        "      state_index = self.state_mapping[state]\n",
        "\n",
        "      # Get the Q-values for the given state\n",
        "      q_values = self.q_table[state_index, :]\n",
        "\n",
        "      # Choose the action with the highest Q-value (exploitation)\n",
        "      action = np.argmax(q_values)\n",
        "\n",
        "      return self.action_mapping[action]"
      ]
    },
    {
      "cell_type": "markdown",
      "metadata": {
        "id": "zAE9F8NIyM5F"
      },
      "source": [
        "## The baseline Agent Class"
      ]
    },
    {
      "cell_type": "code",
      "execution_count": 303,
      "metadata": {
        "id": "7zJ_X0hf86z1"
      },
      "outputs": [],
      "source": [
        "class BaselineSmartGrid:\n",
        "    def __init__(self):\n",
        "        self.battery_threshold = 0\n",
        "\n",
        "    def get_action(self, wind_energy, solar_energy, battery_charge, pole_consumptions1, pole_consumptions2 ,pole_consumptions3 ,pole_consumptions4):\n",
        "        total_consumption = pole_consumptions1 + pole_consumptions2 + pole_consumptions3 + pole_consumptions4\n",
        "        total_production = wind_energy + solar_energy\n",
        "         # action = [battery, urban electricity, pole 1, p2, p3, p4]\n",
        "        # Check if total production can meet total consumption\n",
        "        if total_production >= total_consumption:\n",
        "            # Use only green power sources and set battery charge to 0\n",
        "            return (0, 0, 1, 1, 1, 1)\n",
        "\n",
        "        # Check if battery charge is above the threshold\n",
        "        if battery_charge + total_production >= total_consumption and battery_charge > self.battery_threshold:\n",
        "            # Use the battery to supplement power\n",
        "            return (1, 0, 1, 1, 1, 1)\n",
        "\n",
        "        if battery_charge + total_production >= pole_consumptions1 + pole_consumptions2 :\n",
        "            return (1, 0, 1, 1, 0, 0)\n",
        "        return (0, 1, 1, 1, 1, 1)\n"
      ]
    },
    {
      "cell_type": "code",
      "execution_count": null,
      "metadata": {
        "id": "6STaBsMfCBGl"
      },
      "outputs": [],
      "source": [
        "import matplotlib.pyplot as plt"
      ]
    },
    {
      "cell_type": "markdown",
      "metadata": {
        "id": "a0A_wnFKyP7F"
      },
      "source": [
        "## Test and evaluation"
      ]
    },
    {
      "cell_type": "code",
      "execution_count": 304,
      "metadata": {
        "id": "tpBwy25Bcbm7"
      },
      "outputs": [],
      "source": [
        "env = GridEnvironment(4)"
      ]
    },
    {
      "cell_type": "code",
      "execution_count": 305,
      "metadata": {
        "colab": {
          "base_uri": "https://localhost:8080/"
        },
        "id": "V3c5-Zic89ot",
        "outputId": "13deadb9-e08a-41f4-ab48-501fb379eb3c"
      },
      "outputs": [
        {
          "name": "stdout",
          "output_type": "stream",
          "text": [
            "Episode 1: Total Reward = -9536\n",
            "Episode 101: Total Reward = 8918\n",
            "Episode 201: Total Reward = 9380\n",
            "Episode 301: Total Reward = 10758\n",
            "Episode 401: Total Reward = 11056\n",
            "Episode 501: Total Reward = 11692\n",
            "Episode 601: Total Reward = 11822\n",
            "Episode 701: Total Reward = 11696\n",
            "Episode 801: Total Reward = 11814\n",
            "Episode 901: Total Reward = 17822\n",
            "Episode 1001: Total Reward = 11836\n",
            "Episode 1101: Total Reward = 11910\n",
            "Episode 1201: Total Reward = 11668\n",
            "Episode 1301: Total Reward = 11824\n",
            "Episode 1401: Total Reward = 19630\n",
            "training finished\n"
          ]
        }
      ],
      "source": [
        "# Create and train the Q-learning agent\n",
        "q_learning_agent = SmartGridAgent(num_episodes = 1500, max_steps_per_episode=1000, learning_rate = 0.1)\n",
        "q_learning_agent.map_q_table()\n",
        "q_learning_agent.map_q_table_ind()\n",
        "q_learning_agent.train()\n",
        "print(\"training finished\")\n",
        "# Create the baseline agent\n",
        "baseline_agent = BaselineSmartGrid()"
      ]
    },
    {
      "cell_type": "code",
      "execution_count": 306,
      "metadata": {
        "colab": {
          "base_uri": "https://localhost:8080/",
          "height": 594
        },
        "id": "rs8r1ddxp35r",
        "outputId": "d613eaab-5ff6-424c-8012-15bbc469d165"
      },
      "outputs": [
        {
          "name": "stdout",
          "output_type": "stream",
          "text": [
            "Q-learning Agent Total Reward: 1204234\n",
            "Baseline Agent Total Reward: -1188874\n"
          ]
        },
        {
          "data": {
            "image/png": "[encoded data removed]",
            "text/plain": [
              "<Figure size 1000x600 with 1 Axes>"
            ]
          },
          "metadata": {},
          "output_type": "display_data"
        }
      ],
      "source": [
        "# Initialize variables to track total rewards\n",
        "q_learning_total_reward = 0\n",
        "baseline_total_reward = 0\n",
        "num_episodes = 1000\n",
        "\n",
        "q_hist, base_hist = [], []\n",
        "\n",
        "# Run the episodes and accumulate total rewards for both agents\n",
        "for episode in range(num_episodes):\n",
        "    # Reset the environment and get initial state\n",
        "    state = env.reset()\n",
        "\n",
        "    # Run the Q-learning agent\n",
        "    for _ in range(100):\n",
        "        action = q_learning_agent.get_action(state)\n",
        "        next_state, reward1 = env.step(action)\n",
        "        q_learning_total_reward += reward1\n",
        "\n",
        "        action = baseline_agent.get_action(*next_state)\n",
        "        next_state, reward2 = env.step(action)\n",
        "        baseline_total_reward += reward2\n",
        "\n",
        "        state = next_state\n",
        "    \n",
        "    base_hist.append(baseline_total_reward)\n",
        "    q_hist.append(q_learning_total_reward)\n",
        "\n",
        "# Print the total rewards for both agents\n",
        "print(\"Q-learning Agent Total Reward:\", q_learning_total_reward)\n",
        "print(\"Baseline Agent Total Reward:\", baseline_total_reward)\n",
        "\n",
        "plt.figure(figsize=(10,6))\n",
        "plt.plot([i for i in range(num_episodes)], q_hist, label=\"Q-learning Smart Grid Agent\")\n",
        "plt.plot([i for i in range(num_episodes)], base_hist, label=\"Baseline Micro Grid Agent\")\n",
        "plt.ylabel(\"Score\")\n",
        "plt.xlabel(\"Episode\")\n",
        "plt.legend()\n",
        "plt.show()"
      ]
    }
  ],
  "metadata": {
    "colab": {
      "provenance": []
    },
    "kernelspec": {
      "display_name": "Python 3",
      "name": "python3"
    },
    "language_info": {
      "name": "python"
    }
  },
  "nbformat": 4,
  "nbformat_minor": 0
}
